{
 "cells": [
  {
   "cell_type": "markdown",
   "metadata": {},
   "source": [
    "# Simulation et calcul matriciel"
   ]
  },
  {
   "cell_type": "markdown",
   "metadata": {},
   "source": [
    "## Préliminaires\n",
    "Importation de la librariry numpy très utile pour l'algèbre linéaire"
   ]
  },
  {
   "cell_type": "code",
   "execution_count": 1,
   "metadata": {},
   "outputs": [],
   "source": [
    "import numpy as np"
   ]
  },
  {
   "cell_type": "markdown",
   "metadata": {},
   "source": [
    "Utilisation de la fonction np.array() pour créer des vecteurs et des matrices"
   ]
  },
  {
   "cell_type": "code",
   "execution_count": 2,
   "metadata": {},
   "outputs": [
    {
     "name": "stdout",
     "output_type": "stream",
     "text": [
      "La loi initiale est donnée par  [0.         0.33333333 0.33333333 0.33333333 0.        ]\n",
      "La matrice de transition est donnée par  [[1.    0.    0.    0.    0.   ]\n",
      " [0.5   0.125 0.25  0.    0.125]\n",
      " [0.25  0.5   0.125 0.125 0.   ]\n",
      " [0.    0.25  0.5   0.25  0.   ]\n",
      " [0.    0.    0.    0.    1.   ]]\n"
     ]
    }
   ],
   "source": [
    "#La loi initial de la cahine de Markov est un vecteur de taille 5\n",
    "mu = np.array([0, 1/3, 1/3, 1/3, 0])\n",
    "#Fonction print pour visualiser la valeur d'une variable\n",
    "print(\"La loi initiale est donnée par \", mu)\n",
    "#La matrice de transition est une matrice\n",
    "Q = np.array([[1, 0, 0, 0, 0],\n",
    "            [1/2, 1/8, 1/4, 0, 1/8],\n",
    "            [1/4, 1/2, 1/8, 1/8, 0],\n",
    "            [0, 1/4, 1/2, 1/4, 0],\n",
    "            [0, 0, 0, 0, 1]])\n",
    "print(\"La matrice de transition est donnée par \", Q)"
   ]
  },
  {
   "cell_type": "markdown",
   "metadata": {},
   "source": [
    "## Question 1\n",
    "* La multiplication vectoriel/matriciel se fait via la fonction dot(). \n",
    "* On peut évaluer les puissance de matrices via la fonction matrix_power()"
   ]
  },
  {
   "cell_type": "code",
   "execution_count": 3,
   "metadata": {},
   "outputs": [
    {
     "name": "stdout",
     "output_type": "stream",
     "text": [
      "[0.71044922 0.08015951 0.06518555 0.02319336 0.12101237]\n"
     ]
    }
   ],
   "source": [
    "# Extraction de la fonction matrix_power() de la librairie numpy.linalg\n",
    "from numpy.linalg import matrix_power\n",
    "#Loi de probabilité de X_4\n",
    "p_X_4 = mu.dot(matrix_power(Q, 4))\n",
    "print(p_X_4) "
   ]
  },
  {
   "cell_type": "markdown",
   "metadata": {},
   "source": [
    "## Question 2\n",
    "### Simulation d'une trajectoire\n",
    "On va utiliser la fonction np.random.multinomial() pour générer les états de la chaine, on ajoute des éléments à un vecteur via la fonction append(). On itère en utilisant une boucle for."
   ]
  },
  {
   "cell_type": "code",
   "execution_count": 4,
   "metadata": {},
   "outputs": [
    {
     "name": "stdout",
     "output_type": "stream",
     "text": [
      "[1 2 3 4 5]\n",
      "[3]\n",
      "3\n",
      "1.0\n",
      "[1. 0. 0. 0. 0.]\n",
      "[0.25  0.5   0.125 0.125 0.   ]\n",
      "[2]\n",
      "[3 2]\n"
     ]
    }
   ],
   "source": [
    "#Vecteur espace d'état\n",
    "E = np.array([1, 2, 3, 4, 5])\n",
    "print(E)\n",
    "\n",
    "# Initialisation de la chaine de Markov\n",
    "X0 = np.random.multinomial(1, mu, 1).dot(E)\n",
    "print(X0)\n",
    "# Nous ne voulons pas stocker la valeur dans un vecteur\n",
    "print(X0[0])\n",
    "\n",
    "# On a besoin des probabilités de transition de l'état 0 vers un autre état => Matrice de transition\n",
    "# Première ligne et première colonne\n",
    "print(Q[0, 0])\n",
    "# Première ligne\n",
    "print(Q[0, ])\n",
    "#Ligne qui nous intéresse\n",
    "print(Q[X0[0]-1, ])\n",
    "\n",
    "\n",
    "#L'état suivant\n",
    "X1 = np.random.multinomial(1, Q[X0[0]-1, ], 1).dot(E)\n",
    "print(X1)\n",
    "\n",
    "# La trajectoire avec deux itérations\n",
    "X = np.append(X0 , X1)\n",
    "print(X)\n",
    "\n",
    "# \n",
    "\n",
    "    "
   ]
  },
  {
   "cell_type": "markdown",
   "metadata": {},
   "source": [
    "La trajectoire avec 20 itérations, Utilisation de la boucle for et de la fonction range()"
   ]
  },
  {
   "cell_type": "code",
   "execution_count": 5,
   "metadata": {},
   "outputs": [
    {
     "name": "stdout",
     "output_type": "stream",
     "text": [
      "range(1, 20)\n",
      "range(0, 20, 2)\n",
      "[4 2 1 1 1 1 1 1 1 1 1 1 1 1 1 1 1 1 1 1 1]\n"
     ]
    }
   ],
   "source": [
    "# Suite des 20 premiers entiers\n",
    "print(range(1, 20, 1))\n",
    "# de 0 à 1 par pas de 0.1\n",
    "print(range(0, 20, 2))\n",
    "\n",
    "X = np.random.multinomial(1, mu, 1).dot(E)\n",
    "for t in range(0, 20,1):\n",
    "    X = np.append(X, np.random.multinomial(1, Q[X[t]-1, ], 1).dot(E))\n",
    "    \n",
    "print(X)"
   ]
  },
  {
   "cell_type": "markdown",
   "metadata": {},
   "source": [
    "La trajectoire qui s'arrête à l'absorbtion. On mesure la longueur de la trajectoire grâce à la fonction len()."
   ]
  },
  {
   "cell_type": "code",
   "execution_count": 8,
   "metadata": {},
   "outputs": [
    {
     "name": "stdout",
     "output_type": "stream",
     "text": [
      "[3 3 2 3 2 1]\n",
      "6\n"
     ]
    }
   ],
   "source": [
    "X = np.random.multinomial(1, mu, 1).dot(E)\n",
    "t=0\n",
    "\n",
    "while X[t] != 1 and X[t] != 5 :\n",
    "    X = np.append(X, np.random.multinomial(1, Q[X[t] - 1, ], 1).dot(E))\n",
    "    t = t + 1\n",
    "    \n",
    "print(X)\n",
    "# Longueur de la trajectoire = temps avant absorbtion\n",
    "print(len(X))"
   ]
  },
  {
   "cell_type": "markdown",
   "metadata": {},
   "source": [
    "### Calcul de l'espérance du temps d'absorbtion \n",
    "On réalise 10,000 réplications du temps d'absorption et on calcul la moyenne empirique via la fonction np.mean()"
   ]
  },
  {
   "cell_type": "code",
   "execution_count": 9,
   "metadata": {},
   "outputs": [
    {
     "name": "stdout",
     "output_type": "stream",
     "text": [
      "[4. 2. 7. ... 3. 4. 2.]\n",
      "3.8348\n"
     ]
    }
   ],
   "source": [
    "tauA = np.array([])\n",
    "for k in range(0, 10000):\n",
    "    X = np.random.multinomial(1, mu, 1).dot(E)\n",
    "    t = 0\n",
    "    while X[t] != 1 and X[t] != 5 :\n",
    "        X = np.append(X, np.random.multinomial(1, Q[X[t] - 1, ], 1).dot(E))\n",
    "        t = t + 1\n",
    "    tauA = np.append(tauA, len(X))\n",
    "\n",
    "print(tauA)\n",
    "print(np.mean(tauA))"
   ]
  },
  {
   "cell_type": "code",
   "execution_count": null,
   "metadata": {},
   "outputs": [],
   "source": []
  }
 ],
 "metadata": {
  "kernelspec": {
   "display_name": "Python 3",
   "language": "python",
   "name": "python3"
  },
  "language_info": {
   "codemirror_mode": {
    "name": "ipython",
    "version": 3
   },
   "file_extension": ".py",
   "mimetype": "text/x-python",
   "name": "python",
   "nbconvert_exporter": "python",
   "pygments_lexer": "ipython3",
   "version": "3.6.5"
  }
 },
 "nbformat": 4,
 "nbformat_minor": 2
}
